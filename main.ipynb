{
 "cells": [
  {
   "cell_type": "code",
   "execution_count": null,
   "metadata": {},
   "outputs": [],
   "source": [
    "import numpy as np\n",
    "import cv2\n",
    "from sklearn.neighbors import KNeighborsClassifier\n",
    "from sklearn.metrics import accuracy_score\n",
    "from scipy.spatial import distance\n",
    "import os\n",
    "import glob"
   ]
  },
  {
   "cell_type": "code",
   "execution_count": null,
   "metadata": {},
   "outputs": [],
   "source": [
    "# Hàm tính Histogram\n",
    "def compute_histogram(image, bins=(8, 8, 8)):\n",
    "    hist = cv2.calcHist([image], [0, 1, 2], None, bins, [0, 256, 0, 256, 0, 256])\n",
    "    cv2.normalize(hist, hist)\n",
    "    return hist.flatten()"
   ]
  },
  {
   "cell_type": "code",
   "execution_count": null,
   "metadata": {},
   "outputs": [],
   "source": [
    "# Hàm tính Color Moments (mean, variance, skewness)\n",
    "def compute_color_moments(image):\n",
    "    moments = []\n",
    "    for i in range(3):  # For each channel (B, G, R)\n",
    "        channel = image[:, :, i]\n",
    "        moments.append(np.mean(channel))\n",
    "        moments.append(np.std(channel))\n",
    "        moments.append(scipy.stats.skew(channel.flatten()))\n",
    "    return moments"
   ]
  },
  {
   "cell_type": "code",
   "execution_count": null,
   "metadata": {},
   "outputs": [],
   "source": [
    " Hàm tính CDC và CCV cần được cài đặt thêm theo tài liệu\n",
    "# Phần này sẽ tuỳ thuộc vào cách mô tả chi tiết của hai loại đặc trưng này\n",
    "\n",
    "# Load hình ảnh và tính đặc trưng\n",
    "def load_images_from_folder(folder):\n",
    "    images = []\n",
    "    labels = []\n",
    "    for filename in glob.glob(os.path.join(folder, '*.jpg')):  # Load ảnh từ thư mục\n",
    "        img = cv2.imread(filename)\n",
    "        if img is not None:\n",
    "            # Tính đặc trưng của ảnh\n",
    "            hist = compute_histogram(img)\n",
    "            color_moments = compute_color_moments(img)\n",
    "            # CDC và CCV cần cài đặt thêm\n",
    "            features = np.concatenate([hist, color_moments])\n",
    "            images.append(features)\n",
    "            labels.append(int(os.path.basename(filename).split('_')[0]))  # Giả sử nhãn nằm trong tên file\n",
    "    return np.array(images), np.array(labels)\n"
   ]
  },
  {
   "cell_type": "code",
   "execution_count": null,
   "metadata": {},
   "outputs": [],
   "source": [
    "# Load dữ liệu train và test\n",
    "train_data, train_labels = load_images_from_folder('train')\n",
    "test_data, test_labels = load_images_from_folder('test')"
   ]
  },
  {
   "cell_type": "code",
   "execution_count": null,
   "metadata": {},
   "outputs": [],
   "source": [
    "# Khởi tạo KNN với k = 1 và k = 5\n",
    "for k in [1, 5]:\n",
    "    knn = KNeighborsClassifier(n_neighbors=k, metric='euclidean')  # Có thể thay metric bằng các độ đo khác\n",
    "    knn.fit(train_data, train_labels)\n",
    "    \n",
    "    # Dự đoán\n",
    "    test_pred = knn.predict(test_data)\n",
    "    \n",
    "    # Đánh giá độ chính xác\n",
    "    accuracy = accuracy_score(test_labels, test_pred)\n",
    "    print(f'Accuracy with k={k}: {accuracy}')"
   ]
  }
 ],
 "metadata": {
  "kernelspec": {
   "display_name": ".venv",
   "language": "python",
   "name": "python3"
  },
  "language_info": {
   "name": "python",
   "version": "3.12.6"
  }
 },
 "nbformat": 4,
 "nbformat_minor": 2
}
