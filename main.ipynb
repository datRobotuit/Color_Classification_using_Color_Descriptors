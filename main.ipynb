{
 "cells": [
  {
   "cell_type": "code",
   "execution_count": 20,
   "metadata": {},
   "outputs": [],
   "source": [
    "# -*- coding: utf-8 -*-\n",
    "\"\"\"\n",
    "Created on Tue Dec 17 15:43:46 2019\n",
    "@author: Metin Mert Akçay\n",
    "\"\"\"\n",
    "from sklearn.neighbors import KNeighborsClassifier\n",
    "from sklearn.metrics import confusion_matrix\n",
    "from scipy.stats import skew, kurtosis\n",
    "from sklearn import metrics\n",
    "from tqdm import tqdm\n",
    "import numpy as np\n",
    "import sys\n",
    "import cv2\n",
    "import os\n",
    "from skimage.measure import label"
   ]
  },
  {
   "cell_type": "code",
   "execution_count": null,
   "metadata": {},
   "outputs": [],
   "source": []
  },
  {
   "cell_type": "code",
   "execution_count": 2,
   "metadata": {},
   "outputs": [],
   "source": [
    "BIN_SIZE = 16\n",
    "TEST_PATH = 'test'\n",
    "TRAIN_PATH = 'train'"
   ]
  },
  {
   "cell_type": "markdown",
   "metadata": {},
   "source": [
    "\"\"\" \n",
    "    This function is used to read images.\n",
    "    @param image_path: path of the image\n",
    "    @return image: image\n",
    "\"\"\""
   ]
  },
  {
   "cell_type": "code",
   "execution_count": 3,
   "metadata": {},
   "outputs": [],
   "source": [
    "def read_image(image_path):\n",
    "    image = cv2.imread(image_path, cv2.COLOR_GRAY2BGR)\n",
    "    image = cv2.cvtColor(image, cv2.COLOR_BGR2LUV)\n",
    "    return image"
   ]
  },
  {
   "cell_type": "markdown",
   "metadata": {},
   "source": [
    "\"\"\"\n",
    "    This function is used to create histogram. After creation of histogram, histogram is \n",
    "        divided by total number of pixels and normalizing each histogram value between 0 and 1.\n",
    "    @param image: image\n",
    "    @return feature: normalized histogram values for each channel\n",
    "\"\"\""
   ]
  },
  {
   "cell_type": "code",
   "execution_count": 4,
   "metadata": {},
   "outputs": [],
   "source": [
    "def normalized_color_histogram(image):\n",
    "    row, column, channel = image.shape[:3]\n",
    "    size = row * column\n",
    "    \n",
    "    feature = []\n",
    "    for k in range(channel):\n",
    "        histogram = np.squeeze(cv2.calcHist([image], [k], None, [BIN_SIZE], [0, 256]))\n",
    "        histogram = histogram / size\n",
    "        feature.extend(histogram)\n",
    "    return feature"
   ]
  },
  {
   "cell_type": "markdown",
   "metadata": {},
   "source": [
    "\"\"\"\n",
    "    This function is used for find color moments.\n",
    "    @param channel: channel (L, a, b)\n",
    "    @return feature: color moment results ​​of the examined channel\n",
    "\"\"\""
   ]
  },
  {
   "cell_type": "code",
   "execution_count": 33,
   "metadata": {},
   "outputs": [],
   "source": [
    "def moment(channel):\n",
    "    feature = []    \n",
    "    feature.append(np.mean(channel))\n",
    "    feature.append(np.std(channel))\n",
    "    feature.append(skew(channel))\n",
    "    feature.append(kurtosis(channel))\n",
    "    return feature"
   ]
  },
  {
   "cell_type": "markdown",
   "metadata": {},
   "source": [
    "\"\"\"\n",
    "    This function is used to create color moment features.\n",
    "    @param image: image\n",
    "    @return feature: calculated color moment values ​​for each channel\n",
    "\"\"\""
   ]
  },
  {
   "cell_type": "code",
   "execution_count": 32,
   "metadata": {},
   "outputs": [],
   "source": [
    "def color_moment(image):\n",
    "    row, column, channel = image.shape[:3]\n",
    "    \n",
    "    channel_list = []\n",
    "    for i in range(channel):\n",
    "        channel_list.append([])\n",
    "    \n",
    "    for i in range(row):\n",
    "        for j in range(column):\n",
    "            for k in range(channel):\n",
    "                channel_list[k].append(image[i][j][k])\n",
    "    \n",
    "    feature = []\n",
    "    for i in range(channel):\n",
    "        feature.extend(moment(channel_list[i]))    \n",
    "    return feature"
   ]
  },
  {
   "cell_type": "markdown",
   "metadata": {},
   "source": [
    "\"\"\"\n",
    "    This function is used for apply normalization operation for moment feature\n",
    "    @param data: All extracted features from images\n",
    "    @param str_point: start point of moment features\n",
    "    @param number_of_channel: number of channel in image\n",
    "\"\"\""
   ]
  },
  {
   "cell_type": "code",
   "execution_count": 34,
   "metadata": {},
   "outputs": [],
   "source": [
    "def normalize_moment_feature(data, str_point, number_of_channel):\n",
    "    # 4 : number of color moment feature\n",
    "    end_point = str_point + number_of_channel * 4\n",
    "    \n",
    "    number_of_data = len(data)\n",
    "    for i in range(str_point, end_point):\n",
    "        min_val = sys.maxsize\n",
    "        max_val = 0\n",
    "        for j in range(number_of_data):\n",
    "            if data[j][i] < min_val:\n",
    "                min_val = data[j][i]\n",
    "            if data[j][i] > max_val:\n",
    "                max_val = data[j][i]\n",
    "        \n",
    "        # min - max normalization\n",
    "        for j in range(number_of_data):\n",
    "            data[j][i] = (data[j][i] - min_val) / (max_val - min_val)"
   ]
  },
  {
   "cell_type": "markdown",
   "metadata": {},
   "source": [
    "\"\"\"\n",
    "    Computes the Color Coherence Vector (CCV) for the image.\n",
    "    @param image: image\n",
    "    @return feature: CCV feature vector\n",
    "\"\"\""
   ]
  },
  {
   "cell_type": "code",
   "execution_count": 35,
   "metadata": {},
   "outputs": [],
   "source": [
    "def color_coherence_vector(image,threshold=50,num_colors=64):\n",
    "     # Convert the image to HSV color space\n",
    "    hsv_image = cv2.cvtColor(image, cv2.COLOR_BGR2HSV)\n",
    "\n",
    "    # Quantize the colors\n",
    "    quantized_image = (hsv_image // (256 // num_colors)).astype(np.int32)\n",
    "    \n",
    "    # Initialize arrays to count coherent and incoherent pixels\n",
    "    coherent_counts = np.zeros(num_colors, dtype=np.int32)\n",
    "    incoherent_counts = np.zeros(num_colors, dtype=np.int32)\n",
    "    \n",
    "    # Label connected components\n",
    "    labeled_image, num_labels = label(quantized_image, return_num=True, connectivity=2)\n",
    "    \n",
    "    # Count coherent and incoherent pixels\n",
    "    for label_num in range(1, num_labels + 1):\n",
    "        mask = (labeled_image == label_num)\n",
    "        color = quantized_image[mask][0]\n",
    "        count = np.sum(mask)\n",
    "        \n",
    "        if count >= threshold:\n",
    "            coherent_counts[color] += count\n",
    "        else:\n",
    "            incoherent_counts[color] += count\n",
    "    feature = np.concatenate((coherent_counts, incoherent_counts))\n",
    "    return feature"
   ]
  },
  {
   "cell_type": "markdown",
   "metadata": {},
   "source": [
    "## \"\"\" code start \"\"\""
   ]
  },
  {
   "cell_type": "code",
   "execution_count": 14,
   "metadata": {},
   "outputs": [],
   "source": [
    "if __name__ == '__main__':\n",
    "    # find number of train images\n",
    "    number_of_train_image_count = 0\n",
    "    color_list = os.listdir(TRAIN_PATH)\n",
    "    for index, color_name in enumerate(color_list):\n",
    "        path = os.path.join(TRAIN_PATH, color_name)\n",
    "        image_list = os.listdir(os.path.join(path))\n",
    "        for image_name in image_list:\n",
    "            number_of_train_image_count += 1\n",
    "    # find number of test images\n",
    "    number_of_test_image_count = 0\n",
    "    color_list = os.listdir(TEST_PATH)\n",
    "    for index, color_name in enumerate(color_list):\n",
    "        path = os.path.join(TEST_PATH, color_name)\n",
    "        image_list = os.listdir(os.path.join(path))\n",
    "        for image_name in image_list:\n",
    "            number_of_test_image_count += 1"
   ]
  },
  {
   "cell_type": "markdown",
   "metadata": {},
   "source": [
    "### Train start"
   ]
  },
  {
   "cell_type": "code",
   "execution_count": null,
   "metadata": {},
   "outputs": [],
   "source": [
    "print('<----------TRAIN START ---------->')\n",
    "train_data = []\n",
    "train_label = []\n",
    "color_list = os.listdir(TRAIN_PATH)\n",
    "with tqdm(total=number_of_train_image_count) as pbar:\n",
    "    for index, color_name in enumerate(color_list):\n",
    "        path = os.path.join(TRAIN_PATH, color_name)\n",
    "        image_list = os.listdir(os.path.join(path))\n",
    "        for image_name in image_list:\n",
    "            image = read_image(os.path.join(path, image_name))\n",
    "            histogram_features = normalized_color_histogram(image)\n",
    "            moment_features = color_moment(image)\n",
    "            ccv_features = color_coherence_vector(image)\n",
    "            train_data.append(histogram_features + moment_features + ccv_features.tolist())\n",
    "            train_label.append(index)\n",
    "            pbar.update(1)\n",
    "            print(' ', color_name, image_name)\n",
    "normalize_moment_feature(train_data, BIN_SIZE * image.shape[2], image.shape[2])\n",
    "from sklearn.impute import SimpleImputer\n",
    "\n",
    "imputer = SimpleImputer(strategy='mean')  # or 'median', 'most_frequent', etc.\n",
    "train_data = imputer.fit_transform(train_data)\n",
    "\n",
    "model = KNeighborsClassifier(n_neighbors = 5)\n",
    "model.fit(train_data, train_label)"
   ]
  },
  {
   "cell_type": "markdown",
   "metadata": {},
   "source": [
    "### Test Start"
   ]
  },
  {
   "cell_type": "markdown",
   "metadata": {},
   "source": [
    "### Print"
   ]
  },
  {
   "cell_type": "code",
   "execution_count": 37,
   "metadata": {},
   "outputs": [
    {
     "name": "stdout",
     "output_type": "stream",
     "text": [
      "\n",
      "Accuracy: 0.5625\n",
      "\n",
      "[[9 0 0 0 0 0 0 1]\n",
      " [0 5 0 5 0 0 0 0]\n",
      " [0 0 8 1 1 0 0 0]\n",
      " [0 4 0 6 0 0 0 0]\n",
      " [2 3 0 0 5 0 0 0]\n",
      " [0 3 0 1 0 0 6 0]\n",
      " [0 2 0 0 0 0 8 0]\n",
      " [1 1 2 0 2 0 0 4]]\n"
     ]
    }
   ],
   "source": [
    "prediction = model.predict(test_data)\n",
    "print()\n",
    "print(\"Accuracy:\", metrics.accuracy_score(test_label, prediction))\n",
    "print()\n",
    "print(confusion_matrix(test_label, prediction))"
   ]
  }
 ],
 "metadata": {
  "kernelspec": {
   "display_name": ".venv",
   "language": "python",
   "name": "python3"
  },
  "language_info": {
   "codemirror_mode": {
    "name": "ipython",
    "version": 3
   },
   "file_extension": ".py",
   "mimetype": "text/x-python",
   "name": "python",
   "nbconvert_exporter": "python",
   "pygments_lexer": "ipython3",
   "version": "3.12.6"
  }
 },
 "nbformat": 4,
 "nbformat_minor": 2
}
